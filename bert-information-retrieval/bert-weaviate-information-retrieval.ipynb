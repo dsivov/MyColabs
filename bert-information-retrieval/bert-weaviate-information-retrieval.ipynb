{
  "cells": [
    {
      "cell_type": "markdown",
      "metadata": {
        "id": "view-in-github",
        "colab_type": "text"
      },
      "source": [
        "<a href=\"https://colab.research.google.com/github/dsivov/MyColabs/blob/main/bert-information-retrieval/bert-weaviate-information-retrieval.ipynb\" target=\"_parent\"><img src=\"https://colab.research.google.com/assets/colab-badge.svg\" alt=\"Open In Colab\"/></a>"
      ]
    },
    {
      "cell_type": "code",
      "execution_count": null,
      "metadata": {
        "id": "PFWow-Qy2oTl"
      },
      "outputs": [],
      "source": [
        "!pip3 install transformers\n",
        "!pip3 install nltk\n",
        "!pip3 install torch\n",
        "!pip3 install weaviate-client==3.2.2"
      ]
    },
    {
      "cell_type": "markdown",
      "metadata": {
        "id": "S0NnIU2E2oTm"
      },
      "source": [
        "## Import the BERT transformer model and pytorch\n",
        "\n",
        "We are using the `bert-base-uncased` model in this example, but any model will work. Feel free to adjust accordingly.\n",
        "\n",
        "## Initialize Weaviate Client\n",
        "This assumes you have Weaviate running locally on `:8080`. Adjust URL accordingly. You could also enter the WCS URL here, for example, if you are running a WCS cloud instance instead of running Weaviate locally."
      ]
    },
    {
      "cell_type": "code",
      "execution_count": null,
      "metadata": {
        "id": "dsr92e332oTn"
      },
      "outputs": [],
      "source": [
        "import torch\n",
        "from transformers import AutoModel, AutoTokenizer\n",
        "from nltk.tokenize import sent_tokenize\n",
        "import weaviate\n",
        "\n",
        "torch.set_grad_enabled(False)\n",
        "\n",
        "# udpated to use different model if desired\n",
        "MODEL_NAME = \"sentence-transformers/all-mpnet-base-v2\"\n",
        "model = AutoModel.from_pretrained(MODEL_NAME)\n",
        "model.to('cuda') # remove if working without GPUs\n",
        "tokenizer = AutoTokenizer.from_pretrained(MODEL_NAME)\n",
        "\n",
        "# initialize nltk (for tokenizing sentences)\n",
        "import nltk\n",
        "nltk.download('punkt')\n",
        "\n",
        "# initialize weaviate client for importing and searching\n",
        "client = weaviate.Client(\"http://64.71.146.93:8080\")"
      ]
    },
    {
      "cell_type": "markdown",
      "metadata": {
        "id": "pKdQOPLV2oTp"
      },
      "source": [
        "## Load dataset from disk\n",
        "Create some helper functions to create the dataset (20-newsgroup text posts) from disk. These methods are specific to the structure of your dataset, adjust accordingly."
      ]
    },
    {
      "cell_type": "code",
      "execution_count": null,
      "metadata": {
        "id": "FBCEuHrR2oTp"
      },
      "outputs": [],
      "source": [
        "import os\n",
        "import random\n",
        "\n",
        "def get_questions_filenames(limit_objects=100):\n",
        "    file_names = []\n",
        "    # i=0\n",
        "    # for root, dirs, files in os.walk(\"./data/20news-bydate-test\"):\n",
        "    #     for filename in files:\n",
        "    #         path = os.path.join(root, filename)\n",
        "    #         file_names += [path]\n",
        "        \n",
        "    # random.shuffle(file_names)\n",
        "    # limit_objects = min(len(file_names), limit_objects)\n",
        "      \n",
        "    # file_names = file_names[:limit_objects]\n",
        "\n",
        "    return file_names\n",
        "\n",
        "def read_questions(filenames=[]):\n",
        "    posts = []\n",
        "    # for filename in filenames:\n",
        "    #     f = open(filename, encoding=\"utf-8\", errors='ignore')\n",
        "    #     post = f.read()\n",
        "        \n",
        "    #     # strip the headers (the first occurrence of two newlines)\n",
        "    #     post = post[post.find('\\n\\n'):]\n",
        "        \n",
        "    #     # remove posts with less than 10 words to remove some of the noise\n",
        "    #     if len(post.split(' ')) < 10:\n",
        "    #            continue\n",
        "        \n",
        "    #     post = post.replace('\\n', ' ').replace('\\t', ' ')\n",
        "    #     if len(post) > 1000:\n",
        "    #         post = post[:1000]\n",
        "    #     posts += [post]\n",
        "\n",
        "    return posts       \n"
      ]
    },
    {
      "cell_type": "markdown",
      "metadata": {
        "id": "adT5ZpgI2oTq"
      },
      "source": [
        "## Vectorize Dataset using BERT\n",
        "\n",
        "The following is a helper function to vectorize all posts (using our BERT transformer) which are entered as an array. The return array contains all the vectors in the same order. BERT is optimized to run on GPUs, if you're using CPUs this might take a while. "
      ]
    },
    {
      "cell_type": "code",
      "execution_count": null,
      "metadata": {
        "id": "x3juK5Md2oTq"
      },
      "outputs": [],
      "source": [
        "import time\n",
        "\n",
        "def text2vec(text):\n",
        "    tokens_pt = tokenizer(text, padding=True, truncation=True, max_length=500, add_special_tokens = True, return_tensors=\"pt\")\n",
        "    outputs = model(**tokens_pt)\n",
        "    tokens_pt.to('cuda') # remove if working without GPUs\n",
        "    return outputs[0].mean(0).mean(0).detach()\n",
        "\n",
        "def vectorize_questions(posts=[]):\n",
        "    post_vectors=[]\n",
        "    before=time.time()\n",
        "    for i, post in enumerate(posts):\n",
        "        vec=text2vec(sent_tokenize(post))\n",
        "        post_vectors += [vec]\n",
        "        if i % 25 == 0 and i != 0:\n",
        "            print(\"So far {} objects vectorized in {}s\".format(i, time.time()-before))\n",
        "    after=time.time()\n",
        "    \n",
        "    print(\"Vectorized {} items in {}s\".format(len(posts), after-before))\n",
        "    \n",
        "    return post_vectors"
      ]
    },
    {
      "cell_type": "markdown",
      "metadata": {
        "id": "aRePPJ342oTr"
      },
      "source": [
        "### Run everything we have so far\n",
        "\n",
        "It is now time to run the functions we defined before. Let's load 50 random posts from disk, then vectorize them using BERT."
      ]
    },
    {
      "cell_type": "markdown",
      "metadata": {
        "id": "xZ_VEHpQ2oTr"
      },
      "source": [
        "## Initialize Weaviate\n",
        "\n",
        "Now that we have vectors we can import both the posts and the vectors into Weaviate, so we can then search through them.\n",
        "\n",
        "### Init a simple schema\n",
        "Our schema is very simple, we just have one object class, the \"Post\". A post class has just a single property, which we call \"content\" and is of type \"text\".\n",
        "\n",
        "Each class in schema creates one index, so by running the below we tell weaviate to create one brand new vector index waiting for us to import data."
      ]
    },
    {
      "cell_type": "code",
      "execution_count": 21,
      "metadata": {
        "id": "MUCL0-hi2oTr",
        "colab": {
          "base_uri": "https://localhost:8080/"
        },
        "outputId": "6c7c090b-ef13-485d-987d-0d1ac745ad8d"
      },
      "outputs": [
        {
          "output_type": "stream",
          "name": "stdout",
          "text": [
            "{\n",
            "    \"classes\": [\n",
            "        {\n",
            "            \"class\": \"Weak_Sim_Intent\",\n",
            "            \"description\": \"Add weak intent similarity\",\n",
            "            \"invertedIndexConfig\": {\n",
            "                \"bm25\": {\n",
            "                    \"b\": 0.75,\n",
            "                    \"k1\": 1.2\n",
            "                },\n",
            "                \"cleanupIntervalSeconds\": 60,\n",
            "                \"stopwords\": {\n",
            "                    \"additions\": null,\n",
            "                    \"preset\": \"en\",\n",
            "                    \"removals\": null\n",
            "                }\n",
            "            },\n",
            "            \"properties\": [\n",
            "                {\n",
            "                    \"dataType\": [\n",
            "                        \"int\"\n",
            "                    ],\n",
            "                    \"description\": \"Frame_nmb\",\n",
            "                    \"name\": \"frame_nmbr\"\n",
            "                },\n",
            "                {\n",
            "                    \"dataType\": [\n",
            "                        \"string\"\n",
            "                    ],\n",
            "                    \"description\": \"movie_id\",\n",
            "                    \"name\": \"movie_id\",\n",
            "                    \"tokenization\": \"word\"\n",
            "                },\n",
            "                {\n",
            "                    \"dataType\": [\n",
            "                        \"string\"\n",
            "                    ],\n",
            "                    \"description\": \"url\",\n",
            "                    \"name\": \"url\",\n",
            "                    \"tokenization\": \"word\"\n",
            "                },\n",
            "                {\n",
            "                    \"dataType\": [\n",
            "                        \"string\"\n",
            "                    ],\n",
            "                    \"description\": \"caption\",\n",
            "                    \"name\": \"caption\",\n",
            "                    \"tokenization\": \"word\"\n",
            "                },\n",
            "                {\n",
            "                    \"dataType\": [\n",
            "                        \"string\"\n",
            "                    ],\n",
            "                    \"description\": \"intent\",\n",
            "                    \"name\": \"intent\",\n",
            "                    \"tokenization\": \"word\"\n",
            "                }\n",
            "            ],\n",
            "            \"shardingConfig\": {\n",
            "                \"virtualPerPhysical\": 128,\n",
            "                \"desiredCount\": 1,\n",
            "                \"actualCount\": 1,\n",
            "                \"desiredVirtualCount\": 128,\n",
            "                \"actualVirtualCount\": 128,\n",
            "                \"key\": \"_id\",\n",
            "                \"strategy\": \"hash\",\n",
            "                \"function\": \"murmur3\"\n",
            "            },\n",
            "            \"vectorIndexConfig\": {\n",
            "                \"skip\": false,\n",
            "                \"cleanupIntervalSeconds\": 300,\n",
            "                \"maxConnections\": 64,\n",
            "                \"efConstruction\": 128,\n",
            "                \"ef\": -1,\n",
            "                \"dynamicEfMin\": 100,\n",
            "                \"dynamicEfMax\": 500,\n",
            "                \"dynamicEfFactor\": 8,\n",
            "                \"vectorCacheMaxObjects\": 1000000000000,\n",
            "                \"flatSearchCutoff\": 40000,\n",
            "                \"distance\": \"cosine\"\n",
            "            },\n",
            "            \"vectorIndexType\": \"hnsw\",\n",
            "            \"vectorizer\": \"none\"\n",
            "        },\n",
            "        {\n",
            "            \"class\": \"Weak_Sim_Conclusion\",\n",
            "            \"description\": \"Add weak conclusion similarity\",\n",
            "            \"invertedIndexConfig\": {\n",
            "                \"bm25\": {\n",
            "                    \"b\": 0.75,\n",
            "                    \"k1\": 1.2\n",
            "                },\n",
            "                \"cleanupIntervalSeconds\": 60,\n",
            "                \"stopwords\": {\n",
            "                    \"additions\": null,\n",
            "                    \"preset\": \"en\",\n",
            "                    \"removals\": null\n",
            "                }\n",
            "            },\n",
            "            \"properties\": [\n",
            "                {\n",
            "                    \"dataType\": [\n",
            "                        \"int\"\n",
            "                    ],\n",
            "                    \"description\": \"Frame_nmb\",\n",
            "                    \"name\": \"frame_nmbr\"\n",
            "                },\n",
            "                {\n",
            "                    \"dataType\": [\n",
            "                        \"string\"\n",
            "                    ],\n",
            "                    \"description\": \"movie_id\",\n",
            "                    \"name\": \"movie_id\",\n",
            "                    \"tokenization\": \"word\"\n",
            "                },\n",
            "                {\n",
            "                    \"dataType\": [\n",
            "                        \"string\"\n",
            "                    ],\n",
            "                    \"description\": \"url\",\n",
            "                    \"name\": \"url\",\n",
            "                    \"tokenization\": \"word\"\n",
            "                },\n",
            "                {\n",
            "                    \"dataType\": [\n",
            "                        \"string\"\n",
            "                    ],\n",
            "                    \"description\": \"caption\",\n",
            "                    \"name\": \"caption\",\n",
            "                    \"tokenization\": \"word\"\n",
            "                },\n",
            "                {\n",
            "                    \"dataType\": [\n",
            "                        \"string\"\n",
            "                    ],\n",
            "                    \"description\": \"conclusion\",\n",
            "                    \"name\": \"conclusion\",\n",
            "                    \"tokenization\": \"word\"\n",
            "                }\n",
            "            ],\n",
            "            \"shardingConfig\": {\n",
            "                \"virtualPerPhysical\": 128,\n",
            "                \"desiredCount\": 1,\n",
            "                \"actualCount\": 1,\n",
            "                \"desiredVirtualCount\": 128,\n",
            "                \"actualVirtualCount\": 128,\n",
            "                \"key\": \"_id\",\n",
            "                \"strategy\": \"hash\",\n",
            "                \"function\": \"murmur3\"\n",
            "            },\n",
            "            \"vectorIndexConfig\": {\n",
            "                \"skip\": false,\n",
            "                \"cleanupIntervalSeconds\": 300,\n",
            "                \"maxConnections\": 64,\n",
            "                \"efConstruction\": 128,\n",
            "                \"ef\": -1,\n",
            "                \"dynamicEfMin\": 100,\n",
            "                \"dynamicEfMax\": 500,\n",
            "                \"dynamicEfFactor\": 8,\n",
            "                \"vectorCacheMaxObjects\": 1000000000000,\n",
            "                \"flatSearchCutoff\": 40000,\n",
            "                \"distance\": \"cosine\"\n",
            "            },\n",
            "            \"vectorIndexType\": \"hnsw\",\n",
            "            \"vectorizer\": \"none\"\n",
            "        },\n",
            "        {\n",
            "            \"class\": \"SQL_Questions\",\n",
            "            \"description\": \"SQL to Text mapping\",\n",
            "            \"invertedIndexConfig\": {\n",
            "                \"bm25\": {\n",
            "                    \"b\": 0.75,\n",
            "                    \"k1\": 1.2\n",
            "                },\n",
            "                \"cleanupIntervalSeconds\": 60,\n",
            "                \"stopwords\": {\n",
            "                    \"additions\": null,\n",
            "                    \"preset\": \"en\",\n",
            "                    \"removals\": null\n",
            "                }\n",
            "            },\n",
            "            \"properties\": [\n",
            "                {\n",
            "                    \"dataType\": [\n",
            "                        \"string\"\n",
            "                    ],\n",
            "                    \"description\": \"question\",\n",
            "                    \"name\": \"question\",\n",
            "                    \"tokenization\": \"word\"\n",
            "                },\n",
            "                {\n",
            "                    \"dataType\": [\n",
            "                        \"string\"\n",
            "                    ],\n",
            "                    \"description\": \"SQL\",\n",
            "                    \"name\": \"sQL\",\n",
            "                    \"tokenization\": \"word\"\n",
            "                }\n",
            "            ],\n",
            "            \"shardingConfig\": {\n",
            "                \"virtualPerPhysical\": 128,\n",
            "                \"desiredCount\": 1,\n",
            "                \"actualCount\": 1,\n",
            "                \"desiredVirtualCount\": 128,\n",
            "                \"actualVirtualCount\": 128,\n",
            "                \"key\": \"_id\",\n",
            "                \"strategy\": \"hash\",\n",
            "                \"function\": \"murmur3\"\n",
            "            },\n",
            "            \"vectorIndexConfig\": {\n",
            "                \"skip\": false,\n",
            "                \"cleanupIntervalSeconds\": 300,\n",
            "                \"maxConnections\": 64,\n",
            "                \"efConstruction\": 128,\n",
            "                \"ef\": -1,\n",
            "                \"dynamicEfMin\": 100,\n",
            "                \"dynamicEfMax\": 500,\n",
            "                \"dynamicEfFactor\": 8,\n",
            "                \"vectorCacheMaxObjects\": 1000000000000,\n",
            "                \"flatSearchCutoff\": 40000,\n",
            "                \"distance\": \"cosine\"\n",
            "            },\n",
            "            \"vectorIndexType\": \"hnsw\",\n",
            "            \"vectorizer\": \"none\"\n",
            "        }\n",
            "    ]\n",
            "}\n"
          ]
        }
      ],
      "source": [
        "import json\n",
        "schema = client.schema.get()\n",
        "print(json.dumps(schema, indent=4))\n",
        "class_obj = {\n",
        "\"class\": \"SQL_Questions\", # <= Change to your class name - it will be your collection\n",
        "\"description\": \"SQL to Text mapping\",\n",
        "\"vectorizer\": \"none\",\n",
        "\"properties\": [\n",
        "    {\n",
        "        \"dataType\": [\n",
        "            \"string\"\n",
        "        ],\n",
        "        \"description\": \"question\",\n",
        "        \"name\": \"question\"\n",
        "    },\n",
        "    {\n",
        "        \"dataType\": [\n",
        "            \"string\"\n",
        "        ],\n",
        "        \"description\": \"SQL\",\n",
        "        \"name\": \"SQL\"\n",
        "    }\n",
        "]\n",
        "}\n",
        "client.schema.delete_class(\"SQL_Questions\")\n",
        "client.schema.create_class(class_obj)"
      ]
    },
    {
      "cell_type": "code",
      "execution_count": null,
      "metadata": {
        "id": "dQKkwQ312oTr"
      },
      "outputs": [],
      "source": [
        "\n",
        "def import_questions_with_vectors(questions, sqls, vectors, client):\n",
        "    if len(questions) != len(vectors):\n",
        "        raise Exception(\"len of posts ({}) and vectors ({}) does not match\".format(len(questions), len(vectors)))\n",
        "        \n",
        "    for i, question in enumerate(questions):\n",
        "        try:\n",
        "           client.data_object.create(\n",
        "                data_object={\"question\": question, \"SQL\": sqls[i]},\n",
        "                class_name='SQLQuestions',\n",
        "                vector=vectors[i]\n",
        "            )\n",
        "        except:\n",
        "            print(\"Error\")"
      ]
    },
    {
      "cell_type": "code",
      "execution_count": null,
      "metadata": {
        "id": "9ihzppoC2oTs"
      },
      "outputs": [],
      "source": [
        "def search(query=\"\", limit=3):\n",
        "    before = time.time()\n",
        "    vec = text2vec(query)\n",
        "    vec_took = time.time() - before\n",
        "\n",
        "    before = time.time()\n",
        "    near_vec = {\"vector\": vec}\n",
        "    res = client \\\n",
        "        .query.get(\"Post\", [\"content\", \"_additional {certainty}\"]) \\\n",
        "        .with_near_vector(near_vec) \\\n",
        "        .with_limit(limit) \\\n",
        "        .do()\n",
        "    search_took = time.time() - before\n",
        "\n",
        "    print(\"\\nQuery \\\"{}\\\" with {} results took {:.3f}s ({:.3f}s to vectorize and {:.3f}s to search)\" \\\n",
        "          .format(query, limit, vec_took+search_took, vec_took, search_took))\n",
        "    for post in res[\"data\"][\"Get\"][\"Post\"]:\n",
        "        print(\"{:.4f}: {}\".format(post[\"_additional\"][\"certainty\"], post[\"content\"]))\n",
        "        print('---')"
      ]
    },
    {
      "cell_type": "code",
      "execution_count": null,
      "metadata": {
        "id": "dpCE9CMw2oTs"
      },
      "outputs": [],
      "source": [
        "questions = read_questions(get_questions_filenames(100))\n",
        "vectors = vectorize_questions(questions)\n",
        "import_questions_with_vectors(questions, vectors, client)"
      ]
    },
    {
      "cell_type": "code",
      "execution_count": null,
      "metadata": {
        "id": "eIvqyIck2oTs"
      },
      "outputs": [],
      "source": [
        "search(\"the best camera lens\", 1)\n",
        "search(\"motorcycle trip\", 1)\n",
        "search(\"which software do i need to view jpeg files\", 1)\n",
        "search(\"windows vs mac\", 1)"
      ]
    },
    {
      "cell_type": "code",
      "execution_count": null,
      "metadata": {
        "id": "Vca8kWIm2oTt"
      },
      "outputs": [],
      "source": [
        "#\n"
      ]
    }
  ],
  "metadata": {
    "kernelspec": {
      "display_name": "Python 3",
      "language": "python",
      "name": "python3"
    },
    "language_info": {
      "codemirror_mode": {
        "name": "ipython",
        "version": 3
      },
      "file_extension": ".py",
      "mimetype": "text/x-python",
      "name": "python",
      "nbconvert_exporter": "python",
      "pygments_lexer": "ipython3",
      "version": "3.7.10"
    },
    "colab": {
      "provenance": [],
      "include_colab_link": true
    },
    "accelerator": "GPU",
    "gpuClass": "standard"
  },
  "nbformat": 4,
  "nbformat_minor": 0
}