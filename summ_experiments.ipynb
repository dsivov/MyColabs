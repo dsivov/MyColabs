{
  "cells": [
    {
      "cell_type": "markdown",
      "metadata": {
        "id": "view-in-github",
        "colab_type": "text"
      },
      "source": [
        "<a href=\"https://colab.research.google.com/github/dsivov/MyColabs/blob/main/summ_experiments.ipynb\" target=\"_parent\"><img src=\"https://colab.research.google.com/assets/colab-badge.svg\" alt=\"Open In Colab\"/></a>"
      ]
    },
    {
      "cell_type": "code",
      "execution_count": null,
      "metadata": {
        "id": "DpyiXVMDySH5",
        "cellView": "form"
      },
      "outputs": [],
      "source": [
        "#@title Install dependences - may take a while  \n",
        "! pip install sumy\n",
        "! pip install --index-url http://74.82.29.209:8090 nebula3_database==0.2.2 --trusted-host 74.82.29.209\n",
        "! pip install spacy\n",
        "! pip install openai\n",
        "! pip install fastcoref\n",
        "! pip install ipywidgets\n",
        "from IPython.display import clear_output\n",
        "clear_output()"
      ]
    },
    {
      "cell_type": "code",
      "source": [
        "#@title Imports \n",
        "import nltk\n",
        "nltk.download('punkt')\n",
        "from ipywidgets import interact\n",
        "import ipywidgets as widgets\n",
        "from IPython.display import display\n",
        "from database.arangodb import ArangoClient \n",
        "import openai"
      ],
      "metadata": {
        "cellView": "form",
        "id": "BIz1BUtMndlq"
      },
      "execution_count": null,
      "outputs": []
    },
    {
      "cell_type": "code",
      "execution_count": null,
      "metadata": {
        "id": "w0RpMebsGds_"
      },
      "outputs": [],
      "source": [
        "#@title Get data from Arango\n",
        "dbname = \"web_demo\"\n",
        "arango_host = \"http://172.83.9.249:8529\"\n",
        "client = ArangoClient(hosts=arango_host)\n",
        "db = client.db(dbname, username='nebula', password='nebula')\n",
        "movies = []\n",
        "urls = {}\n",
        "for movie in db.collection(\"Movies\").all():\n",
        "    movies.append(movie['_id'])\n",
        "    urls[movie['_id']] = movie['url_path']\n",
        "movies.append('Free_Text')\n",
        "movies.reverse()\n"
      ]
    },
    {
      "cell_type": "code",
      "execution_count": null,
      "metadata": {
        "cellView": "form",
        "id": "NfQ0JLhRMDEo"
      },
      "outputs": [],
      "source": [
        "#@title Widgets\n",
        "movie_id = widgets.Dropdown(\n",
        "    options=movies,\n",
        "    value='Free_Text',\n",
        "    description='Movie ID',\n",
        "    disabled=False,\n",
        "    style={'description_width': 'initial'},\n",
        "    layout = widgets.Layout(width='80%')\n",
        ")\n",
        "api_key = widgets.Text(\n",
        "        value='12345678',\n",
        "        placeholder='Type something',\n",
        "        description='API KEY',\n",
        "        disabled=False,\n",
        "        style={'description_width': 'initial'},\n",
        "        layout = widgets.Layout(width='80%')\n",
        "    )\n",
        "free_text = widgets.Textarea(\n",
        "        value='',\n",
        "        placeholder='Type something',\n",
        "        description='Free text',\n",
        "        disabled=False,\n",
        "        style={'description_width': 'initial'},\n",
        "        layout = widgets.Layout(height=\"auto\", width=\"80%\")\n",
        "    )\n",
        "prompt = widgets.Text(\n",
        "        value='Abstractive summarization of following sentences:',\n",
        "        placeholder='Type something',\n",
        "        description='Prompt ',\n",
        "        disabled=False,\n",
        "        style={'description_width': 'initial'},\n",
        "        layout = widgets.Layout(height=\"auto\", width=\"80%\")\n",
        "    )\n"
      ]
    },
    {
      "cell_type": "code",
      "execution_count": null,
      "metadata": {
        "id": "hrX879MBQHVB"
      },
      "outputs": [],
      "source": [
        "#@title Input API Key and Movie ID\n",
        "display(api_key)\n",
        "print()\n",
        "display(movie_id)"
      ]
    },
    {
      "cell_type": "code",
      "source": [
        "movie_server = \"http://74.82.29.209:9000/\"\n",
        "movie_url = movie_server + urls[movie_id.value]\n",
        "print(movie_url)"
      ],
      "metadata": {
        "id": "UuDEP_v173kK"
      },
      "execution_count": null,
      "outputs": []
    },
    {
      "cell_type": "code",
      "execution_count": null,
      "metadata": {
        "cellView": "form",
        "id": "5y9MEPPJnWDL"
      },
      "outputs": [],
      "source": [
        "#@title Get captions \n",
        "if movie_id.value == 'Free_Text':\n",
        "    display(free_text)\n",
        "    print()\n",
        "else:\n",
        "    mdfs = []\n",
        "    cbs = []\n",
        "    print(movie_id.value)\n",
        "    for res in db.collection(\"s4_llm_output\").find({'movie_id': movie_id.value}):\n",
        "        mdfs.append({'frame_num':res['frame_num'], 'captions': res['candidate']})\n",
        "        temp =widgets.Checkbox(\n",
        "        value=True,\n",
        "        description=res['candidate'],\n",
        "        disabled=False,\n",
        "        indent=False,\n",
        "        layout = widgets.Layout(width='100%')\n",
        "        )\n",
        "        display(temp)\n",
        "        cbs.append(temp)\n",
        "\n",
        "#print(mdfs)"
      ]
    },
    {
      "cell_type": "code",
      "execution_count": null,
      "metadata": {
        "cellView": "form",
        "id": "IIRYNjx_nWDL"
      },
      "outputs": [],
      "source": [
        "#@title Seleted captions \n",
        "if movie_id.value == 'Free_Text':\n",
        "    text = free_text.value\n",
        "else:\n",
        "    text = \"\"\n",
        "    for cb in cbs:\n",
        "        if cb.value == True:\n",
        "            text = text + cb.description\n",
        "print(text)\n"
      ]
    },
    {
      "cell_type": "code",
      "execution_count": null,
      "metadata": {
        "id": "B3nfAC1TySIB"
      },
      "outputs": [],
      "source": [
        "#@title Run simple summization by SUMY\n",
        "from __future__ import absolute_import\n",
        "from __future__ import division, print_function, unicode_literals\n",
        "\n",
        "from sumy.parsers.html import HtmlParser\n",
        "from sumy.parsers.plaintext import PlaintextParser\n",
        "from sumy.nlp.tokenizers import Tokenizer\n",
        "from sumy.summarizers.lsa import LsaSummarizer as Summarizer\n",
        "from sumy.nlp.stemmers import Stemmer\n",
        "from sumy.utils import get_stop_words\n",
        "\n",
        "\n",
        "LANGUAGE = \"english\"\n",
        "SENTENCES_COUNT = 10\n",
        "\n",
        "\n",
        "#prompt = \"Summarise following text:\\n\"\n",
        "#prompt = \"Extract 5 important actions from following text:\\n\"\n",
        "sum = \"\"\n",
        "#prompt = \"Generate long title from captions:\\n\"\n",
        "#prompt = \"Generate few captivating headings from captions:\\n\"\n",
        "#prompt = \"Create few summarising headings from captions:\\n\"\n",
        "#prompt = \"what happens in the scene described by the following text?:\\n\"\n",
        "parser = PlaintextParser.from_string(text, Tokenizer(LANGUAGE))    \n",
        "stemmer = Stemmer(LANGUAGE)\n",
        "\n",
        "summarizer = Summarizer(stemmer)\n",
        "summarizer.stop_words = get_stop_words(LANGUAGE)\n",
        "\n",
        "for sentence in summarizer(parser.document, SENTENCES_COUNT):\n",
        "    sum = sum + str(sentence)\n",
        "print(sum)"
      ]
    },
    {
      "cell_type": "code",
      "execution_count": null,
      "metadata": {
        "cellView": "form",
        "id": "czYXs5DVySH9"
      },
      "outputs": [],
      "source": [
        "#@title Co-ref \n",
        "from fastcoref import spacy_component\n",
        "import spacy\n",
        "#!python3 -m spacy download en_core_web_sm\n",
        "\n",
        "\n",
        "#text = 'Alice goes down the rabbit hole. Where she would discover a new reality beyond her expectations.'\n",
        "\n",
        "nlp = spacy.load(\"en_core_web_sm\")\n",
        "nlp.add_pipe(\"fastcoref\")\n",
        "\n",
        "doc = nlp(sum, component_cfg={\"fastcoref\": {'resolve_text': True}})\n",
        "print(doc._.coref_clusters)\n",
        "print(doc._.resolved_text)\n",
        "sum = doc._.resolved_text"
      ]
    },
    {
      "cell_type": "code",
      "execution_count": null,
      "metadata": {
        "cellView": "form",
        "id": "X0O9lnhNnWDN"
      },
      "outputs": [],
      "source": [
        "#@title Input prompt\n",
        "display(prompt)"
      ]
    },
    {
      "cell_type": "code",
      "execution_count": null,
      "metadata": {
        "cellView": "form",
        "id": "BmeVlJBHnWDN"
      },
      "outputs": [],
      "source": [
        "#@title Print final text to sum\n",
        "print(prompt.value + \"\\n\" + sum)\n",
        "_to_gpt = prompt.value + \"\\n\" + sum"
      ]
    },
    {
      "cell_type": "code",
      "execution_count": null,
      "metadata": {
        "id": "vGxDKxcjySID"
      },
      "outputs": [],
      "source": [
        "#@title GPT-3 API\n",
        "openai.api_key = api_key.value\n",
        "#prompt = \"Generate captivating heading from captions of movie:\\n\" + text\n",
        "#print(prompt)\n",
        "response = openai.Completion.create(\n",
        "  engine=\"text-davinci-003\",\n",
        "  prompt=_to_gpt,\n",
        "  temperature=0.0,\n",
        "  max_tokens=256\n",
        "  #top_p=1.0,\n",
        "  #frequency_penalty=0.0,\n",
        "  #presence_penalty=0.0\n",
        ")\n",
        "\n",
        "\n",
        "print(response['choices'][0]['text'])\n"
      ]
    }
  ],
  "metadata": {
    "colab": {
      "provenance": [],
      "include_colab_link": true
    },
    "kernelspec": {
      "display_name": "base",
      "language": "python",
      "name": "python3"
    },
    "language_info": {
      "codemirror_mode": {
        "name": "ipython",
        "version": 3
      },
      "file_extension": ".py",
      "mimetype": "text/x-python",
      "name": "python",
      "nbconvert_exporter": "python",
      "pygments_lexer": "ipython3",
      "version": "3.9.13"
    },
    "orig_nbformat": 4,
    "vscode": {
      "interpreter": {
        "hash": "597985ec3a85199db6d51c1acd236759121adbd34d8abd143f6cf1ec68ea0309"
      }
    }
  },
  "nbformat": 4,
  "nbformat_minor": 0
}