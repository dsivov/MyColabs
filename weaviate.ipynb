{
  "nbformat": 4,
  "nbformat_minor": 0,
  "metadata": {
    "colab": {
      "provenance": [],
      "authorship_tag": "ABX9TyONX21WS/uCfd3HxwDgabih",
      "include_colab_link": true
    },
    "kernelspec": {
      "name": "python3",
      "display_name": "Python 3"
    },
    "language_info": {
      "name": "python"
    }
  },
  "cells": [
    {
      "cell_type": "markdown",
      "metadata": {
        "id": "view-in-github",
        "colab_type": "text"
      },
      "source": [
        "<a href=\"https://colab.research.google.com/github/dsivov/MyColabs/blob/main/weaviate.ipynb\" target=\"_parent\"><img src=\"https://colab.research.google.com/assets/colab-badge.svg\" alt=\"Open In Colab\"/></a>"
      ]
    },
    {
      "cell_type": "code",
      "execution_count": null,
      "metadata": {
        "id": "vRBH0Iss4N1d"
      },
      "outputs": [],
      "source": [
        "#https://weaviate.io/developers/weaviate/current/\n",
        "%pip install weaviate-client\n",
        "client = weaviate.Client(\"http://64.71.146.93:8080\") # <== if you use Docker-compose"
      ]
    },
    {
      "cell_type": "code",
      "source": [
        "class_obj = {\n",
        "    \"class\": \"Test_Class\", # <= Change to your class name - it will be your collection\n",
        "    \"description\": \"Add weak conclusion similarity\",\n",
        "    \"vectorizer\": \"none\",\n",
        "    \"properties\": [\n",
        "        {\n",
        "            \"dataType\": [\n",
        "                \"int\"\n",
        "            ],\n",
        "            \"description\": \"Frame_nmb\",\n",
        "            \"name\": \"frame_nmbr\",\n",
        "        },\n",
        "        {\n",
        "            \"dataType\": [\n",
        "                \"string\"\n",
        "            ],\n",
        "            \"description\": \"movie_id\",\n",
        "            \"name\": \"movie_id\"\n",
        "        },\n",
        "        {\n",
        "            \"dataType\": [\n",
        "                \"string\"\n",
        "            ],\n",
        "            \"description\": \"url\",\n",
        "            \"name\": \"url\"\n",
        "        },\n",
        "        {\n",
        "            \"dataType\": [\n",
        "                \"string\"\n",
        "            ],\n",
        "            \"description\": \"caption\",\n",
        "            \"name\": \"caption\"\n",
        "        },\n",
        "        {\n",
        "            \"dataType\": [\n",
        "                \"string\"\n",
        "            ],\n",
        "            \"description\": \"conclusion\",\n",
        "            \"name\": \"conclusion\"\n",
        "        }\n",
        "    ]\n",
        "}"
      ],
      "metadata": {
        "id": "gQ578LOt4boJ"
      },
      "execution_count": null,
      "outputs": []
    },
    {
      "cell_type": "code",
      "source": [
        "# add the schema\n",
        "client.schema.create_class(class_obj)\n",
        "#get the schema\n",
        "schema = client.schema.get()\n",
        "#If you want to delete - uncomment\n",
        "#client.schema.delete_class()\n",
        "#print the schema\n",
        "print(json.dumps(schema, indent=4))"
      ],
      "metadata": {
        "id": "remFa2Nr4wKj"
      },
      "execution_count": null,
      "outputs": []
    },
    {
      "cell_type": "code",
      "source": [
        "#Create your vector by any model like:\n",
        "#vector = st_model.encode(line['intents'], convert_to_tensor=True)\n",
        "#Create data object\n",
        "data_object = {\"movie_id\": line['movie_id'], \"frame_nmbr\": line['frame_num'], \n",
        "    \"url\": line['url'], \"caption\": line['candidate'], \"intent\": line['intents']}\n",
        "#Insert vector with data \n",
        "client.data_object.create(\n",
        "data_object,\n",
        "\"Test_Class\",\n",
        "# str(uuid_),\n",
        "vector = vector # supported types are `list`, 'numpy.ndarray`, `torch.Tensor` and `tf.Tensor`. Make sure the length matches with your Weaviate settings.\n",
        ")    "
      ],
      "metadata": {
        "id": "72ax2MLV4juR"
      },
      "execution_count": null,
      "outputs": []
    },
    {
      "cell_type": "code",
      "source": [
        "def search(query=\"\", limit=3):\n",
        "    before = time.time()\n",
        "    vec = text2vec(query)\n",
        "    vec_took = time.time() - before\n",
        "\n",
        "    before = time.time()\n",
        "    near_vec = {\"vector\": vec}\n",
        "    res = client \\\n",
        "        .query.get(\"Post\", [\"content\", \"_additional {certainty}\"]) \\\n",
        "        .with_near_vector(near_vec) \\\n",
        "        .with_limit(limit) \\\n",
        "        .do()\n",
        "    search_took = time.time() - before\n",
        "\n",
        "    print(\"\\nQuery \\\"{}\\\" with {} results took {:.3f}s ({:.3f}s to vectorize and {:.3f}s to search)\" \\\n",
        "          .format(query, limit, vec_took+search_took, vec_took, search_took))\n",
        "    for post in res[\"data\"][\"Get\"][\"Post\"]:\n",
        "        print(\"{:.4f}: {}\".format(post[\"_additional\"][\"certainty\"], post[\"content\"]))\n",
        "        print('---')\n",
        "print(result)"
      ],
      "metadata": {
        "id": "8EnA5uu87Zvr"
      },
      "execution_count": null,
      "outputs": []
    }
  ]
}